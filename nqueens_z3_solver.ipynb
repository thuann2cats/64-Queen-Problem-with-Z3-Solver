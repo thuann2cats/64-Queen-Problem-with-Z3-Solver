{
 "cells": [
  {
   "cell_type": "markdown",
   "source": [
    "# Experiment: 64-Queen problem with Z3 Solver\n",
    "\n",
    "In this experiment, I used Z3 Solver to solve the N-Queens problem. Z3 Solver can solve the problem with N = 64 in just minutes.\n",
    "\n",
    "In this notebook, the constant `num_queens` can be set to a different N value for further experimentations. The solution is the output of the last cell in the usual format: the position of a queen in each \"column\" in the board."
   ],
   "metadata": {
    "collapsed": false
   },
   "id": "7f87e5ba91d760c1"
  },
  {
   "cell_type": "code",
   "execution_count": 3,
   "id": "initial_id",
   "metadata": {
    "collapsed": true,
    "ExecuteTime": {
     "end_time": "2023-11-13T10:41:08.754981900Z",
     "start_time": "2023-11-13T10:41:08.638699100Z"
    }
   },
   "outputs": [
    {
     "name": "stdout",
     "output_type": "stream",
     "text": [
      "z3 version: 4.12.2\n"
     ]
    }
   ],
   "source": [
    "import z3\n",
    "from z3 import *\n",
    "print(f\"z3 version: {z3.get_version_string()}\")"
   ]
  },
  {
   "cell_type": "code",
   "execution_count": 4,
   "outputs": [],
   "source": [
    "# The N-queens puzzle is the problem of placing N chess queens on an NxN chessboard so that no two queens attack each other. Thus, a solution requires that no two queens share the same row, column, or diagonal.\n",
    "num_queens = 64\n",
    "Q = [\n",
    "\tInt(f\"Q_{i+1}\") for i in range(num_queens)\n",
    "]"
   ],
   "metadata": {
    "collapsed": false,
    "ExecuteTime": {
     "end_time": "2023-11-13T10:41:09.189672500Z",
     "start_time": "2023-11-13T10:41:09.016993900Z"
    }
   },
   "id": "fd856c1f337d6696"
  },
  {
   "cell_type": "code",
   "execution_count": 5,
   "outputs": [],
   "source": [
    "# Each queen is in a column\n",
    "range_c = [\n",
    "\tAnd(Q[i] <= num_queens, Q[i] >= 1) for i in range(num_queens) \n",
    "]\n"
   ],
   "metadata": {
    "collapsed": false,
    "ExecuteTime": {
     "end_time": "2023-11-13T10:41:31.413335500Z",
     "start_time": "2023-11-13T10:41:31.268604300Z"
    }
   },
   "id": "9bbc7de34ec7ad0a"
  },
  {
   "cell_type": "code",
   "execution_count": 6,
   "outputs": [
    {
     "data": {
      "text/plain": "z3.z3.BoolRef"
     },
     "execution_count": 6,
     "metadata": {},
     "output_type": "execute_result"
    }
   ],
   "source": [
    "# At most one queen per column\n",
    "separate_columns = Distinct(\n",
    "\t[Q[i] for i in range(num_queens)]\n",
    ")\n",
    "type(separate_columns)"
   ],
   "metadata": {
    "collapsed": false,
    "ExecuteTime": {
     "end_time": "2023-11-13T10:41:37.509996300Z",
     "start_time": "2023-11-13T10:41:37.397705100Z"
    }
   },
   "id": "23b7640071258267"
  },
  {
   "cell_type": "code",
   "execution_count": 7,
   "outputs": [],
   "source": [
    "# diagonal constraint\n",
    "\n",
    "diagonal_c = [\n",
    "\tAnd(Q[i] - Q[j] != i - j, Q[i] - Q[j] != j - i)\n",
    "\tfor i in range(num_queens)\n",
    "\t\tfor j in range(num_queens)\n",
    "\t\t\tif i != j\n",
    "]"
   ],
   "metadata": {
    "collapsed": false,
    "ExecuteTime": {
     "end_time": "2023-11-13T10:41:49.878988200Z",
     "start_time": "2023-11-13T10:41:42.489233400Z"
    }
   },
   "id": "f773a1bd095a8b3e"
  },
  {
   "cell_type": "code",
   "execution_count": 8,
   "outputs": [
    {
     "data": {
      "text/plain": "z3.z3.BoolRef"
     },
     "execution_count": 8,
     "metadata": {},
     "output_type": "execute_result"
    }
   ],
   "source": [
    "type(diagonal_c[0])"
   ],
   "metadata": {
    "collapsed": false,
    "ExecuteTime": {
     "end_time": "2023-11-13T10:41:50.211369900Z",
     "start_time": "2023-11-13T10:41:50.210372500Z"
    }
   },
   "id": "7c7aa3d080f73a4e"
  },
  {
   "cell_type": "code",
   "execution_count": 9,
   "outputs": [
    {
     "name": "stdout",
     "output_type": "stream",
     "text": [
      "[15, 8, 11, 19, 49, 9, 41, 21, 33, 29, 61, 55, 17, 59, 37, 45, 2, 25, 5, 31, 23, 27, 35, 51, 63, 57, 43, 38, 47, 39, 32, 4, 1, 3, 6, 53, 10, 12, 14, 16, 18, 20, 22, 24, 26, 28, 30, 7, 36, 34, 13, 40, 42, 44, 46, 48, 50, 52, 54, 56, 58, 60, 62, 64]\n"
     ]
    }
   ],
   "source": [
    "s_n_queens = Solver()\n",
    "s_n_queens.add(range_c + [separate_columns] + diagonal_c)\n",
    "if s_n_queens.check() == sat:\n",
    "\tm = s_n_queens.model()\n",
    "\t# print(m)\n",
    "\tr = [\n",
    "\t\tm.evaluate(Q[i]) for i in range(num_queens)\n",
    "\t]\n",
    "\t# print(type(r))\n",
    "\tprint(r)\n",
    "else:\n",
    "\tprint(\"failed to solve n-queen\")"
   ],
   "metadata": {
    "collapsed": false,
    "ExecuteTime": {
     "end_time": "2023-11-13T10:42:42.246579100Z",
     "start_time": "2023-11-13T10:41:57.095563700Z"
    }
   },
   "id": "ad2065c0aac5f627"
  },
  {
   "cell_type": "code",
   "execution_count": null,
   "outputs": [],
   "source": [],
   "metadata": {
    "collapsed": false
   },
   "id": "5eb3cff063e9c6c6"
  }
 ],
 "metadata": {
  "kernelspec": {
   "display_name": "Python 3",
   "language": "python",
   "name": "python3"
  },
  "language_info": {
   "codemirror_mode": {
    "name": "ipython",
    "version": 2
   },
   "file_extension": ".py",
   "mimetype": "text/x-python",
   "name": "python",
   "nbconvert_exporter": "python",
   "pygments_lexer": "ipython2",
   "version": "2.7.6"
  }
 },
 "nbformat": 4,
 "nbformat_minor": 5
}
